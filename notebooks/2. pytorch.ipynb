{
 "cells": [
  {
   "cell_type": "code",
   "execution_count": 2,
   "metadata": {},
   "outputs": [],
   "source": [
    "import sys\n",
    "sys.path.append('..')"
   ]
  },
  {
   "cell_type": "code",
   "execution_count": 3,
   "metadata": {},
   "outputs": [],
   "source": [
    "import os\n",
    "import traceback\n",
    "import matplotlib.pyplot as plt\n",
    "\n",
    "from core.datasets import *\n",
    "from core.networks import *\n",
    "from core.models import *"
   ]
  },
  {
   "cell_type": "markdown",
   "metadata": {},
   "source": [
    "# Parameters"
   ]
  },
  {
   "cell_type": "code",
   "execution_count": 7,
   "metadata": {},
   "outputs": [],
   "source": [
    "device = torch.device('cuda:0')\n",
    "lr = 1e-3\n",
    "n_epochs = 34\n",
    "early_stop_threshold = 1e-2\n",
    "\n",
    "batch_size = 32\n",
    "n_workers = 4\n",
    "shuffle = True\n",
    "\n",
    "cae_latent_dim = 32\n",
    "cae_stride = 2\n",
    "resnet_model_no = 34\n",
    "\n",
    "dir_data = '/Users/minha/Documents/Data/celeba/clean/'\n",
    "dir_load = None\n",
    "dir_save = '../resources/models/'\n",
    "path_metadata = '/Users/minha/Documents/Data/celeba/list_attr_celeba.csv'\n",
    "features = ['Attractive', 'Bags_Under_Eyes', 'Bangs', 'Chubby', 'Eyeglasses', 'Male', 'Mouth_Slightly_Open', 'Mustache', 'Smiling', 'Wearing_Lipstick', 'Young']"
   ]
  },
  {
   "cell_type": "markdown",
   "metadata": {},
   "source": [
    "# Initialize Dataloader"
   ]
  },
  {
   "cell_type": "code",
   "execution_count": 8,
   "metadata": {},
   "outputs": [
    {
     "name": "stdout",
     "output_type": "stream",
     "text": [
      "Processing Labels...\n"
     ]
    },
    {
     "name": "stderr",
     "output_type": "stream",
     "text": [
      "100%|████████████████████████████████████████████████████████████████████████| 202599/202599 [00:54<00:00, 3744.37it/s]\n"
     ]
    }
   ],
   "source": [
    "dataset = CelebA(dir_data, path_metadata, features)"
   ]
  },
  {
   "cell_type": "code",
   "execution_count": 9,
   "metadata": {},
   "outputs": [
    {
     "name": "stdout",
     "output_type": "stream",
     "text": [
      "118251 29563\n"
     ]
    }
   ],
   "source": [
    "train_len = int(len(dataset)*.8)\n",
    "val_len = len(dataset) - train_len\n",
    "print(train_len, val_len)"
   ]
  },
  {
   "cell_type": "code",
   "execution_count": 10,
   "metadata": {},
   "outputs": [],
   "source": [
    "dataset_train = torch.utils.data.Subset(dataset, list(range(0, train_len)))\n",
    "dataset_val = torch.utils.data.Subset(dataset, list(range(train_len, len(dataset))))"
   ]
  },
  {
   "cell_type": "code",
   "execution_count": 11,
   "metadata": {},
   "outputs": [],
   "source": [
    "dataloader_train = torch.utils.data.DataLoader(dataset_train, batch_size=batch_size, shuffle=shuffle, num_workers=n_workers)\n",
    "dataloader_val = torch.utils.data.DataLoader(dataset_val, batch_size=batch_size, shuffle=shuffle, num_workers=n_workers)"
   ]
  },
  {
   "cell_type": "markdown",
   "metadata": {},
   "source": [
    "# Initialize Networks"
   ]
  },
  {
   "cell_type": "code",
   "execution_count": 12,
   "metadata": {},
   "outputs": [],
   "source": [
    "x_shape = (3, 224, 224)\n",
    "network_cae = ConvAutoencoder(cae_latent_dim, *x_shape, stride=cae_stride).to(device)\n",
    "network_resnet = ResNet(34, len(features), in_channels=3).to(device)"
   ]
  },
  {
   "cell_type": "markdown",
   "metadata": {},
   "source": [
    "# Initialize Models"
   ]
  },
  {
   "cell_type": "code",
   "execution_count": 13,
   "metadata": {},
   "outputs": [],
   "source": [
    "model_cae = ModelCAE(network_cae, lr=lr)\n",
    "model_cls = ModelSigmoidClassifier(network_resnet, lr=lr)"
   ]
  },
  {
   "cell_type": "markdown",
   "metadata": {},
   "source": [
    "# Loading Saved Models"
   ]
  },
  {
   "cell_type": "code",
   "execution_count": 14,
   "metadata": {},
   "outputs": [],
   "source": [
    "if dir_load is not None:\n",
    "    model_cae.load(dir_load + 'cae.pth')\n",
    "    model_cls.load(dir_load + 'cls.pth')"
   ]
  },
  {
   "cell_type": "markdown",
   "metadata": {},
   "source": [
    "# Training Loop"
   ]
  },
  {
   "cell_type": "code",
   "execution_count": 15,
   "metadata": {
    "scrolled": true,
    "tags": []
   },
   "outputs": [
    {
     "data": {
      "text/plain": [
       "ResNet(\n",
       "  (resnet): ResNet(\n",
       "    (conv1): Conv2d(3, 64, kernel_size=(7, 7), stride=(2, 2), padding=(3, 3), bias=False)\n",
       "    (bn1): BatchNorm2d(64, eps=1e-05, momentum=0.1, affine=True, track_running_stats=True)\n",
       "    (relu): ReLU(inplace=True)\n",
       "    (maxpool): MaxPool2d(kernel_size=3, stride=2, padding=1, dilation=1, ceil_mode=False)\n",
       "    (layer1): Sequential(\n",
       "      (0): BasicBlock(\n",
       "        (conv1): Conv2d(64, 64, kernel_size=(3, 3), stride=(1, 1), padding=(1, 1), bias=False)\n",
       "        (bn1): BatchNorm2d(64, eps=1e-05, momentum=0.1, affine=True, track_running_stats=True)\n",
       "        (relu): ReLU(inplace=True)\n",
       "        (conv2): Conv2d(64, 64, kernel_size=(3, 3), stride=(1, 1), padding=(1, 1), bias=False)\n",
       "        (bn2): BatchNorm2d(64, eps=1e-05, momentum=0.1, affine=True, track_running_stats=True)\n",
       "      )\n",
       "      (1): BasicBlock(\n",
       "        (conv1): Conv2d(64, 64, kernel_size=(3, 3), stride=(1, 1), padding=(1, 1), bias=False)\n",
       "        (bn1): BatchNorm2d(64, eps=1e-05, momentum=0.1, affine=True, track_running_stats=True)\n",
       "        (relu): ReLU(inplace=True)\n",
       "        (conv2): Conv2d(64, 64, kernel_size=(3, 3), stride=(1, 1), padding=(1, 1), bias=False)\n",
       "        (bn2): BatchNorm2d(64, eps=1e-05, momentum=0.1, affine=True, track_running_stats=True)\n",
       "      )\n",
       "      (2): BasicBlock(\n",
       "        (conv1): Conv2d(64, 64, kernel_size=(3, 3), stride=(1, 1), padding=(1, 1), bias=False)\n",
       "        (bn1): BatchNorm2d(64, eps=1e-05, momentum=0.1, affine=True, track_running_stats=True)\n",
       "        (relu): ReLU(inplace=True)\n",
       "        (conv2): Conv2d(64, 64, kernel_size=(3, 3), stride=(1, 1), padding=(1, 1), bias=False)\n",
       "        (bn2): BatchNorm2d(64, eps=1e-05, momentum=0.1, affine=True, track_running_stats=True)\n",
       "      )\n",
       "    )\n",
       "    (layer2): Sequential(\n",
       "      (0): BasicBlock(\n",
       "        (conv1): Conv2d(64, 128, kernel_size=(3, 3), stride=(2, 2), padding=(1, 1), bias=False)\n",
       "        (bn1): BatchNorm2d(128, eps=1e-05, momentum=0.1, affine=True, track_running_stats=True)\n",
       "        (relu): ReLU(inplace=True)\n",
       "        (conv2): Conv2d(128, 128, kernel_size=(3, 3), stride=(1, 1), padding=(1, 1), bias=False)\n",
       "        (bn2): BatchNorm2d(128, eps=1e-05, momentum=0.1, affine=True, track_running_stats=True)\n",
       "        (downsample): Sequential(\n",
       "          (0): Conv2d(64, 128, kernel_size=(1, 1), stride=(2, 2), bias=False)\n",
       "          (1): BatchNorm2d(128, eps=1e-05, momentum=0.1, affine=True, track_running_stats=True)\n",
       "        )\n",
       "      )\n",
       "      (1): BasicBlock(\n",
       "        (conv1): Conv2d(128, 128, kernel_size=(3, 3), stride=(1, 1), padding=(1, 1), bias=False)\n",
       "        (bn1): BatchNorm2d(128, eps=1e-05, momentum=0.1, affine=True, track_running_stats=True)\n",
       "        (relu): ReLU(inplace=True)\n",
       "        (conv2): Conv2d(128, 128, kernel_size=(3, 3), stride=(1, 1), padding=(1, 1), bias=False)\n",
       "        (bn2): BatchNorm2d(128, eps=1e-05, momentum=0.1, affine=True, track_running_stats=True)\n",
       "      )\n",
       "      (2): BasicBlock(\n",
       "        (conv1): Conv2d(128, 128, kernel_size=(3, 3), stride=(1, 1), padding=(1, 1), bias=False)\n",
       "        (bn1): BatchNorm2d(128, eps=1e-05, momentum=0.1, affine=True, track_running_stats=True)\n",
       "        (relu): ReLU(inplace=True)\n",
       "        (conv2): Conv2d(128, 128, kernel_size=(3, 3), stride=(1, 1), padding=(1, 1), bias=False)\n",
       "        (bn2): BatchNorm2d(128, eps=1e-05, momentum=0.1, affine=True, track_running_stats=True)\n",
       "      )\n",
       "      (3): BasicBlock(\n",
       "        (conv1): Conv2d(128, 128, kernel_size=(3, 3), stride=(1, 1), padding=(1, 1), bias=False)\n",
       "        (bn1): BatchNorm2d(128, eps=1e-05, momentum=0.1, affine=True, track_running_stats=True)\n",
       "        (relu): ReLU(inplace=True)\n",
       "        (conv2): Conv2d(128, 128, kernel_size=(3, 3), stride=(1, 1), padding=(1, 1), bias=False)\n",
       "        (bn2): BatchNorm2d(128, eps=1e-05, momentum=0.1, affine=True, track_running_stats=True)\n",
       "      )\n",
       "    )\n",
       "    (layer3): Sequential(\n",
       "      (0): BasicBlock(\n",
       "        (conv1): Conv2d(128, 256, kernel_size=(3, 3), stride=(2, 2), padding=(1, 1), bias=False)\n",
       "        (bn1): BatchNorm2d(256, eps=1e-05, momentum=0.1, affine=True, track_running_stats=True)\n",
       "        (relu): ReLU(inplace=True)\n",
       "        (conv2): Conv2d(256, 256, kernel_size=(3, 3), stride=(1, 1), padding=(1, 1), bias=False)\n",
       "        (bn2): BatchNorm2d(256, eps=1e-05, momentum=0.1, affine=True, track_running_stats=True)\n",
       "        (downsample): Sequential(\n",
       "          (0): Conv2d(128, 256, kernel_size=(1, 1), stride=(2, 2), bias=False)\n",
       "          (1): BatchNorm2d(256, eps=1e-05, momentum=0.1, affine=True, track_running_stats=True)\n",
       "        )\n",
       "      )\n",
       "      (1): BasicBlock(\n",
       "        (conv1): Conv2d(256, 256, kernel_size=(3, 3), stride=(1, 1), padding=(1, 1), bias=False)\n",
       "        (bn1): BatchNorm2d(256, eps=1e-05, momentum=0.1, affine=True, track_running_stats=True)\n",
       "        (relu): ReLU(inplace=True)\n",
       "        (conv2): Conv2d(256, 256, kernel_size=(3, 3), stride=(1, 1), padding=(1, 1), bias=False)\n",
       "        (bn2): BatchNorm2d(256, eps=1e-05, momentum=0.1, affine=True, track_running_stats=True)\n",
       "      )\n",
       "      (2): BasicBlock(\n",
       "        (conv1): Conv2d(256, 256, kernel_size=(3, 3), stride=(1, 1), padding=(1, 1), bias=False)\n",
       "        (bn1): BatchNorm2d(256, eps=1e-05, momentum=0.1, affine=True, track_running_stats=True)\n",
       "        (relu): ReLU(inplace=True)\n",
       "        (conv2): Conv2d(256, 256, kernel_size=(3, 3), stride=(1, 1), padding=(1, 1), bias=False)\n",
       "        (bn2): BatchNorm2d(256, eps=1e-05, momentum=0.1, affine=True, track_running_stats=True)\n",
       "      )\n",
       "      (3): BasicBlock(\n",
       "        (conv1): Conv2d(256, 256, kernel_size=(3, 3), stride=(1, 1), padding=(1, 1), bias=False)\n",
       "        (bn1): BatchNorm2d(256, eps=1e-05, momentum=0.1, affine=True, track_running_stats=True)\n",
       "        (relu): ReLU(inplace=True)\n",
       "        (conv2): Conv2d(256, 256, kernel_size=(3, 3), stride=(1, 1), padding=(1, 1), bias=False)\n",
       "        (bn2): BatchNorm2d(256, eps=1e-05, momentum=0.1, affine=True, track_running_stats=True)\n",
       "      )\n",
       "      (4): BasicBlock(\n",
       "        (conv1): Conv2d(256, 256, kernel_size=(3, 3), stride=(1, 1), padding=(1, 1), bias=False)\n",
       "        (bn1): BatchNorm2d(256, eps=1e-05, momentum=0.1, affine=True, track_running_stats=True)\n",
       "        (relu): ReLU(inplace=True)\n",
       "        (conv2): Conv2d(256, 256, kernel_size=(3, 3), stride=(1, 1), padding=(1, 1), bias=False)\n",
       "        (bn2): BatchNorm2d(256, eps=1e-05, momentum=0.1, affine=True, track_running_stats=True)\n",
       "      )\n",
       "      (5): BasicBlock(\n",
       "        (conv1): Conv2d(256, 256, kernel_size=(3, 3), stride=(1, 1), padding=(1, 1), bias=False)\n",
       "        (bn1): BatchNorm2d(256, eps=1e-05, momentum=0.1, affine=True, track_running_stats=True)\n",
       "        (relu): ReLU(inplace=True)\n",
       "        (conv2): Conv2d(256, 256, kernel_size=(3, 3), stride=(1, 1), padding=(1, 1), bias=False)\n",
       "        (bn2): BatchNorm2d(256, eps=1e-05, momentum=0.1, affine=True, track_running_stats=True)\n",
       "      )\n",
       "    )\n",
       "    (layer4): Sequential(\n",
       "      (0): BasicBlock(\n",
       "        (conv1): Conv2d(256, 512, kernel_size=(3, 3), stride=(2, 2), padding=(1, 1), bias=False)\n",
       "        (bn1): BatchNorm2d(512, eps=1e-05, momentum=0.1, affine=True, track_running_stats=True)\n",
       "        (relu): ReLU(inplace=True)\n",
       "        (conv2): Conv2d(512, 512, kernel_size=(3, 3), stride=(1, 1), padding=(1, 1), bias=False)\n",
       "        (bn2): BatchNorm2d(512, eps=1e-05, momentum=0.1, affine=True, track_running_stats=True)\n",
       "        (downsample): Sequential(\n",
       "          (0): Conv2d(256, 512, kernel_size=(1, 1), stride=(2, 2), bias=False)\n",
       "          (1): BatchNorm2d(512, eps=1e-05, momentum=0.1, affine=True, track_running_stats=True)\n",
       "        )\n",
       "      )\n",
       "      (1): BasicBlock(\n",
       "        (conv1): Conv2d(512, 512, kernel_size=(3, 3), stride=(1, 1), padding=(1, 1), bias=False)\n",
       "        (bn1): BatchNorm2d(512, eps=1e-05, momentum=0.1, affine=True, track_running_stats=True)\n",
       "        (relu): ReLU(inplace=True)\n",
       "        (conv2): Conv2d(512, 512, kernel_size=(3, 3), stride=(1, 1), padding=(1, 1), bias=False)\n",
       "        (bn2): BatchNorm2d(512, eps=1e-05, momentum=0.1, affine=True, track_running_stats=True)\n",
       "      )\n",
       "      (2): BasicBlock(\n",
       "        (conv1): Conv2d(512, 512, kernel_size=(3, 3), stride=(1, 1), padding=(1, 1), bias=False)\n",
       "        (bn1): BatchNorm2d(512, eps=1e-05, momentum=0.1, affine=True, track_running_stats=True)\n",
       "        (relu): ReLU(inplace=True)\n",
       "        (conv2): Conv2d(512, 512, kernel_size=(3, 3), stride=(1, 1), padding=(1, 1), bias=False)\n",
       "        (bn2): BatchNorm2d(512, eps=1e-05, momentum=0.1, affine=True, track_running_stats=True)\n",
       "      )\n",
       "    )\n",
       "    (avgpool): AdaptiveAvgPool2d(output_size=(1, 1))\n",
       "    (fc): Linear(in_features=512, out_features=11, bias=True)\n",
       "  )\n",
       ")"
      ]
     },
     "execution_count": 15,
     "metadata": {},
     "output_type": "execute_result"
    }
   ],
   "source": [
    "model_cae.network.train()\n",
    "model_cls.network.train()"
   ]
  },
  {
   "cell_type": "code",
   "execution_count": 16,
   "metadata": {
    "scrolled": true,
    "tags": []
   },
   "outputs": [
    {
     "name": "stdout",
     "output_type": "stream",
     "text": [
      "Epoch: 0\n"
     ]
    },
    {
     "name": "stderr",
     "output_type": "stream",
     "text": [
      "100%|██████████████████████████████████████████████████████████████████████████████| 3696/3696 [11:16<00:00,  5.46it/s]\n"
     ]
    },
    {
     "name": "stdout",
     "output_type": "stream",
     "text": [
      "Training Loss (cae): 0.015379161590955207\n",
      "Training Loss (cls): 0.22433746176735533\n"
     ]
    },
    {
     "name": "stderr",
     "output_type": "stream",
     "text": [
      "100%|████████████████████████████████████████████████████████████████████████████████| 924/924 [01:04<00:00, 14.24it/s]\n"
     ]
    },
    {
     "name": "stdout",
     "output_type": "stream",
     "text": [
      "Validation Loss (cae): 0.00984994361068231\n",
      "Validation Loss (cls): 0.1919116685691076\n",
      "-------------\n",
      "Epoch: 1\n"
     ]
    },
    {
     "name": "stderr",
     "output_type": "stream",
     "text": [
      "100%|██████████████████████████████████████████████████████████████████████████████| 3696/3696 [11:15<00:00,  5.47it/s]\n"
     ]
    },
    {
     "name": "stdout",
     "output_type": "stream",
     "text": [
      "Training Loss (cae): 0.009365913933909042\n",
      "Training Loss (cls): 0.17897251987168605\n"
     ]
    },
    {
     "name": "stderr",
     "output_type": "stream",
     "text": [
      "100%|████████████████████████████████████████████████████████████████████████████████| 924/924 [01:05<00:00, 14.17it/s]\n"
     ]
    },
    {
     "name": "stdout",
     "output_type": "stream",
     "text": [
      "Validation Loss (cae): 0.008797167475815073\n",
      "Validation Loss (cls): 0.1778213730267374\n",
      "-------------\n",
      "Epoch: 2\n"
     ]
    },
    {
     "name": "stderr",
     "output_type": "stream",
     "text": [
      "100%|██████████████████████████████████████████████████████████████████████████████| 3696/3696 [10:55<00:00,  5.64it/s]\n"
     ]
    },
    {
     "name": "stdout",
     "output_type": "stream",
     "text": [
      "Training Loss (cae): 0.008657259174402868\n",
      "Training Loss (cls): 0.16610724146949588\n"
     ]
    },
    {
     "name": "stderr",
     "output_type": "stream",
     "text": [
      "100%|████████████████████████████████████████████████████████████████████████████████| 924/924 [01:04<00:00, 14.35it/s]\n"
     ]
    },
    {
     "name": "stdout",
     "output_type": "stream",
     "text": [
      "Validation Loss (cae): 0.008648417215266171\n",
      "Validation Loss (cls): 0.16862654295705615\n",
      "-------------\n",
      "Epoch: 3\n"
     ]
    },
    {
     "name": "stderr",
     "output_type": "stream",
     "text": [
      "100%|██████████████████████████████████████████████████████████████████████████████| 3696/3696 [10:55<00:00,  5.64it/s]\n"
     ]
    },
    {
     "name": "stdout",
     "output_type": "stream",
     "text": [
      "Training Loss (cae): 0.00846040345694632\n",
      "Training Loss (cls): 0.15745788854163834\n"
     ]
    },
    {
     "name": "stderr",
     "output_type": "stream",
     "text": [
      "100%|████████████████████████████████████████████████████████████████████████████████| 924/924 [01:05<00:00, 14.14it/s]\n"
     ]
    },
    {
     "name": "stdout",
     "output_type": "stream",
     "text": [
      "Validation Loss (cae): 0.008493807216707085\n",
      "Validation Loss (cls): 0.16516114651221475\n",
      "-------------\n",
      "Epoch: 4\n"
     ]
    },
    {
     "name": "stderr",
     "output_type": "stream",
     "text": [
      "100%|██████████████████████████████████████████████████████████████████████████████| 3696/3696 [10:43<00:00,  5.75it/s]\n"
     ]
    },
    {
     "name": "stdout",
     "output_type": "stream",
     "text": [
      "Training Loss (cae): 0.008354126068801737\n",
      "Training Loss (cls): 0.14978154286443865\n"
     ]
    },
    {
     "name": "stderr",
     "output_type": "stream",
     "text": [
      "100%|████████████████████████████████████████████████████████████████████████████████| 924/924 [01:01<00:00, 14.96it/s]\n"
     ]
    },
    {
     "name": "stdout",
     "output_type": "stream",
     "text": [
      "Validation Loss (cae): 0.008304045330511317\n",
      "Validation Loss (cls): 0.16418481628648388\n",
      "-------------\n",
      "Epoch: 5\n"
     ]
    },
    {
     "name": "stderr",
     "output_type": "stream",
     "text": [
      "100%|██████████████████████████████████████████████████████████████████████████████| 3696/3696 [10:43<00:00,  5.74it/s]\n"
     ]
    },
    {
     "name": "stdout",
     "output_type": "stream",
     "text": [
      "Training Loss (cae): 0.00827111899540296\n",
      "Training Loss (cls): 0.14190657489461364\n"
     ]
    },
    {
     "name": "stderr",
     "output_type": "stream",
     "text": [
      "100%|████████████████████████████████████████████████████████████████████████████████| 924/924 [01:03<00:00, 14.52it/s]\n"
     ]
    },
    {
     "name": "stdout",
     "output_type": "stream",
     "text": [
      "Validation Loss (cae): 0.008254832152208692\n",
      "Validation Loss (cls): 0.1641854578750087\n",
      "-------------\n",
      "Epoch: 6\n"
     ]
    },
    {
     "name": "stderr",
     "output_type": "stream",
     "text": [
      "100%|██████████████████████████████████████████████████████████████████████████████| 3696/3696 [09:32<00:00,  6.45it/s]\n"
     ]
    },
    {
     "name": "stdout",
     "output_type": "stream",
     "text": [
      "Training Loss (cae): 0.008207486749392857\n",
      "Training Loss (cls): 0.13156078770369678\n"
     ]
    },
    {
     "name": "stderr",
     "output_type": "stream",
     "text": [
      "100%|████████████████████████████████████████████████████████████████████████████████| 924/924 [00:57<00:00, 16.12it/s]"
     ]
    },
    {
     "name": "stdout",
     "output_type": "stream",
     "text": [
      "Validation Loss (cae): 0.008208105556295935\n",
      "Validation Loss (cls): 0.17330908658410304\n",
      "-------------\n"
     ]
    },
    {
     "name": "stderr",
     "output_type": "stream",
     "text": [
      "\n"
     ]
    }
   ],
   "source": [
    "torch.cuda.empty_cache()\n",
    "df_cae = []\n",
    "df_cls = []\n",
    "\n",
    "loss_cae_val = np.inf\n",
    "loss_cls_val = np.inf\n",
    "\n",
    "for epoch in range(n_epochs):\n",
    "    print(f'Epoch: {epoch}')\n",
    "    \n",
    "    for idx, x, y in tqdm(dataloader_train):\n",
    "        try:\n",
    "            x = x.to(device)\n",
    "            y = y.to(device)\n",
    "            model_cae.update(x)\n",
    "            model_cls.update(x, y)\n",
    "        except Exception as e:\n",
    "            traceback.print_exc()\n",
    "            breakpoint()\n",
    "    \n",
    "    loss_cae_train = np.mean(model_cae.loss_history['training'][-len(dataloader_train):])\n",
    "    loss_cls_train = np.mean(model_cls.loss_history['training'][-len(dataloader_train):])\n",
    "    print('Training Loss (cae):', loss_cae_train)\n",
    "    print('Training Loss (cls):', loss_cls_train)\n",
    "    \n",
    "    for idx, x, y in tqdm(dataloader_val):\n",
    "        try:\n",
    "            x = x.to(device)\n",
    "            y = y.to(device)\n",
    "            out_cae = model_cae.eval(x)\n",
    "            out_cls = model_cls.eval(x, y)\n",
    "        except Exception as e:\n",
    "            traceback.print_exc()\n",
    "            breakpoint()\n",
    "    \n",
    "    loss_cae_val_prev = loss_cae_val\n",
    "    loss_cls_val_prev = loss_cls_val\n",
    "    \n",
    "    loss_cae_val = np.mean(model_cae.loss_history['validation'][-len(dataloader_val):])\n",
    "    loss_cls_val = np.mean(model_cls.loss_history['validation'][-len(dataloader_val):])\n",
    "    print('Validation Loss (cae):', loss_cae_val)\n",
    "    print('Validation Loss (cls):', loss_cls_val)\n",
    "\n",
    "    info_cae  = {'Epoch':epoch, 'Model':'cae', 'Training Loss':loss_cae_train, 'Validation Loss':loss_cae_val}\n",
    "    info_cls  = {'Epoch':epoch, 'Model':'cls', 'Training Loss':loss_cls_train, 'Validation Loss':loss_cls_val}\n",
    "    \n",
    "    df_cae.append(info_cae)\n",
    "    df_cls.append(info_cls)\n",
    "\n",
    "    print('-'*13)\n",
    "    \n",
    "    early_stop = loss_cls_val/loss_cls_val_prev > 1 + early_stop_threshold\n",
    "    if early_stop:\n",
    "        break"
   ]
  },
  {
   "cell_type": "code",
   "execution_count": 17,
   "metadata": {},
   "outputs": [],
   "source": [
    "df_cae = pd.DataFrame(df_cae)"
   ]
  },
  {
   "cell_type": "code",
   "execution_count": 18,
   "metadata": {},
   "outputs": [],
   "source": [
    "df_cls = pd.DataFrame(df_cls)"
   ]
  },
  {
   "cell_type": "code",
   "execution_count": 19,
   "metadata": {},
   "outputs": [
    {
     "data": {
      "text/plain": [
       "[<matplotlib.lines.Line2D at 0x1ef08549a30>]"
      ]
     },
     "execution_count": 19,
     "metadata": {},
     "output_type": "execute_result"
    },
    {
     "data": {
      "image/png": "iVBORw0KGgoAAAANSUhEUgAAAYAAAAD4CAYAAADlwTGnAAAAOXRFWHRTb2Z0d2FyZQBNYXRwbG90bGliIHZlcnNpb24zLjUuMCwgaHR0cHM6Ly9tYXRwbG90bGliLm9yZy8/fFQqAAAACXBIWXMAAAsTAAALEwEAmpwYAAAnO0lEQVR4nO3de3hcd33n8fd3rrpZlqzL2LENdhLHkcJCMMqNQHNBCjbQmO4WmjQtFLJ1DYQC+/RpA+yy7bNLoZddSkpIGiCFbGlCgNK6bdrESQhJSAJWSEgcX2LHSSr5JskXXS2NZvTdP+Y4lhVdRtZlZjSf1/PMM3PO+Z0z3wNP/NH8fuf8jrk7IiJSfEK5LkBERHJDASAiUqQUACIiRUoBICJSpBQAIiJFKpLrAqajtrbWV61alesyREQKytNPP93l7nVj1xdUAKxatYrW1tZclyEiUlDM7NXx1qsLSESkSCkARESKlAJARKRIKQBERIqUAkBEpEgpAEREipQCQESkSBVFADyyu4OvP7I312WIiOSVogiAJ146wle2vkjv4HCuSxERyRtFEQAtjQmG086jL3bluhQRkbxRFAGw7g3VVJdF2brjUK5LERHJG0URAOGQcfX5CR7e1cFweiTX5YiI5IWiCADIdAP1DKZofeVYrksREckLRRMA71xTSywSYuuOw7kuRUQkLxRNAJTHI7zj3Fq27jyEu+e6HBGRnCuaAABobkjQdvQEezr6cl2KiEjOZRUAZrbezHab2V4zu3mc7WZmtwTbnzOzdaO23WlmHWa2fcw+f2xm+83s2eD1npmfzuTe1VAPoG4gERGyCAAzCwO3AhuARuB6M2sc02wDsCZ4bQJuG7Xt28D6CQ7/FXe/MHjdN83apy1RWcJbVlYpAEREyO4XwMXAXnff5+5J4B5g45g2G4G7POMpoMrMlgG4+6PA0dkseiZaGup5tu04HT2DuS5FRCSnsgmA5UDbqOX2YN1024znpqDL6E4zqx6vgZltMrNWM2vt7OzM4pCTa25MAPDQro4ZH0tEpJBlEwA2zrqxl9Fk02as24BzgAuBg8D/Ga+Ru9/h7k3u3lRX97qH2k/b2sQiVi4p5UF1A4lIkcsmANqBlaOWVwAHzqDNadz9sLun3X0E+AaZrqY5Z2Y0NyR4fG8XA8nUfHyliEheyiYAtgFrzGy1mcWA64AtY9psAT4UXA10KdDt7gcnO+jJMYLArwHbJ2o721oaEgylRnhsjyaHE5HiNWUAuHsKuAm4H9gJ3OvuL5jZZjPbHDS7D9gH7CXz1/zHT+5vZncDTwJrzazdzG4MNv25mT1vZs8BVwGfma2TmspFq5dQWRJRN5CIFLVINo2CSzTvG7Pu9lGfHfjEBPteP8H6386+zNkVDYe46vx6Ht7VQXrECYfGG8IQEVnYiupO4NGaGxIc6U/yzH9ocjgRKU5FGwBXrK0jGja27lQ3kIgUp6INgMqSKJeeXaO7gkWkaBVtAECmG2hfZz8vdWpyOBEpPsUdACfvClY3kIgUoaIOgOVVpTQuq1Q3kIgUpaIOAMg8KvLpV49xpG8o16WIiMwrBUBjghGHH++e+URzIiKFpOgD4IKzKlm2uIStOw7luhQRkXlV9AFwcnK4R1/sYnA4netyRETmTdEHAGSuBjoxnOaJlzQ5nIgUDwUAcOnZS6iIR9i6Qw+JEZHioQAA4pEwV5xXx0M7DzMyMtVzbEREFgYFQKC5sZ6O3iGe29+d61JEROaFAiBw1dp6wiHTMwJEpGgoAAJVZTEuWlXNg5oWQkSKhAJglOaGBLsO9dJ2dCDXpYiIzDkFwCgtweRwmhtIRIpBVgFgZuvNbLeZ7TWzm8fZbmZ2S7D9OTNbN2rbnWbWYWbjPvTdzP7AzNzMas/8NGbHG2vKOS9RoW4gESkKUwaAmYWBW4ENQCNwvZk1jmm2AVgTvDYBt43a9m1g/QTHXgm0AP8x3cLnSnNDgp+9fJTugeFclyIiMqey+QVwMbDX3fe5exK4B9g4ps1G4C7PeAqoMrNlAO7+KHB0gmN/BfhDIG8uvm9pTJAecR55UTeFicjClk0ALAfaRi23B+um2+Y0ZnYtsN/dfzlFu01m1mpmrZ2dcz9j51tWVFFbEdc4gIgseNkEgI2zbuxf7Nm0OdXYrAz4PPCFqb7c3e9w9yZ3b6qrq5uq+YyFQkZzQz0/2d1JMjUy598nIpIr2QRAO7By1PIK4MAZtBntHGA18EszeyVo/wszW5pFPXOupTFB71CKn718JNeliIjMmWwCYBuwxsxWm1kMuA7YMqbNFuBDwdVAlwLd7n5wogO6+/PuXu/uq9x9FZkAWefueTEp/+Xn1lISDemuYBFZ0KYMAHdPATcB9wM7gXvd/QUz22xmm4Nm9wH7gL3AN4CPn9zfzO4GngTWmlm7md04y+cw60qiYd65po6tOw7jnjfj0yIisyqSTSN3v4/MP/Kj190+6rMDn5hg3+uzOP6qbOqYTy2NCbbuOMyOgz1ccNbiXJcjIjLrdCfwBK4+vx4z3RUsIguXAmACtRVx1r1Bk8OJyMKlAJhES2OC7ft7ONh9IteliIjMOgXAJJobMpPD6WogEVmIFACTOKeunNW15WzdqWkhRGThUQBMwsxoaUzw5Etd9A5qcjgRWVgUAFNobkgwnHYefbEr16WIiMwqBcAU1r2hiuqyqK4GEpEFRwEwhUg4xNXnJ3h4VweptCaHE5GFQwGQhZbGerpPDLPtlWO5LkVEZNYoALLwzjV1xCIhdQOJyIKiAMhCeTzC5efU8OBOTQ4nIguHAiBLzY0JXj0ywJ6OvlyXIiIyKxQAWTp5V7AmhxORhUIBkKVEZQlvWbFY4wAismAoAKahuSHBs23H6egdzHUpIiIzpgCYhpYLErjDw5obSEQWAAXANKxNLGJFdam6gURkQVAATIOZ0dyQ4LE9XQwkU7kuR0RkRrIKADNbb2a7zWyvmd08znYzs1uC7c+Z2bpR2+40sw4z2z5mn/8VtH3WzB4ws7Nmfjpz75rGBEOpER7fo8nhRKSwTRkAZhYGbgU2AI3A9WbWOKbZBmBN8NoE3DZq27eB9eMc+i/c/c3ufiHwL8AXplt8Lly0egmLSiK6HFRECl42vwAuBva6+z53TwL3ABvHtNkI3OUZTwFVZrYMwN0fBY6OPai794xaLAcK4hbbaDjEVWvreXhXB+mRgihZRGRc2QTAcqBt1HJ7sG66bV7HzL5oZm3ADUzwC8DMNplZq5m1dnZ2ZlHu3GtpTHCkP8mzbZocTkQKVzYBYOOsG/unbzZtXt/A/fPuvhL4LnDTBG3ucPcmd2+qq6ubstj5cMXaOqJh4wF1A4lIAcsmANqBlaOWVwAHzqDNZP4e+C/TaJ9TlSVRLj27Rg+LF5GClk0AbAPWmNlqM4sB1wFbxrTZAnwouBroUqDb3Q9OdlAzWzNq8Vpg1zTqzrnmhgQvdfazr1OTw4lIYZoyANw9RaZ75n5gJ3Cvu79gZpvNbHPQ7D5gH7AX+Abw8ZP7m9ndwJPAWjNrN7Mbg01fNrPtZvYccA3wqdk6qfnwroZ6AN0UJiIFywppfvumpiZvbW3NdRmvec9XH6MiHuHezZfluhQRkQmZ2dPu3jR2ve4EnoHmxgStrx7laH8y16WIiEybAmAGWhoSjDg8vEuTw4lI4VEAzMCblleytLJEVwOJSEFSAMyAmdHcWM+jezoZHE7nuhwRkWlRAMxQc0OCgWSaJ186kutSRESmRQEwQ5edU0N5LMxWXQ4qIgVGATBD8UiYK9bW8dDOw4xocjgRKSAKgFnQ3JDgcM8Qz+/vznUpIiJZUwDMgqvPryccMt0VLCIFRQEwC6rKYjS9sVoPiRGRgqIAmCUtjQl2Heql7ehArksREcmKAmCWtDQmAE0OJyKFQwEwS95YU86a+gp1A4lIwVAAzKKWxgQ/e/ko3QPDuS5FRGRKCoBZ1NyYID3iPPKiJocTkfynAJhFF66oorYirm4gESkICoBZFAoZzQ31/GR3J8nUSK7LERGZlAJgljU3JOgdSvHzl4/muhQRkUllFQBmtt7MdpvZXjO7eZztZma3BNufM7N1o7bdaWYdZrZ9zD5/YWa7gvY/MrOqGZ9NHrj83FpKoiG27jiU61JERCY1ZQCYWRi4FdgANALXm1njmGYbgDXBaxNw26ht3wbWj3PorcCb3P3NwIvAZ6dbfD4qjYV555o6HtzZQSE9b1lEik82vwAuBva6+z53TwL3ABvHtNkI3OUZTwFVZrYMwN0fBV7XH+LuD7h7Klh8ClhxpieRb1oaEuw/foKdB3tzXYqIyISyCYDlQNuo5fZg3XTbTOajwL+Nt8HMNplZq5m1dnZ2TuOQuXPV+fWYoauBRCSvZRMANs66sX0b2bQZ/+BmnwdSwHfH2+7ud7h7k7s31dXVZXPInKtbFGfdG6o1LYSI5LVsAqAdWDlqeQVw4AzavI6ZfRh4H3CDL7AO8+aGBM/v7+Zg94lclyIiMq5sAmAbsMbMVptZDLgO2DKmzRbgQ8HVQJcC3e5+cLKDmtl64I+Aa919wU2h2dJYD8CDO3VXsIjkpykDIBiovQm4H9gJ3OvuL5jZZjPbHDS7D9gH7AW+AXz85P5mdjfwJLDWzNrN7MZg09eARcBWM3vWzG6frZPKB+fUVbC6tpwHNQ4gInkqkk0jd7+PzD/yo9fdPuqzA5+YYN/rJ1h/bvZlFh6zzF3B33niVfqGUlTEs/qfWkRk3uhO4DnU0riUZHqER18sjKuXRKS4KADm0Lo3VFFdFlU3kIjkJQXAHIqEQ1x1fj0P7+4gldbkcCKSXxQAc+yaxgTHB4ZpffVYrksRETmNAmCOvXNNHbFwSN1AIpJ3FABzrDwe4e3n1rB152FNDicieUUBMA9aGhO8emSAvR19uS5FROQ1CoB58K7zEwBs1dxAIpJHFADzYOniEt68YrFmBxWRvKIAmCctDQmebTtOR+9grksREQEUAPOmuTGBO/x4lyaHE5H8oACYJ+cvXcTyqlJ1A4lI3lAAzBMzo6UxwWN7ujiRTOe6HBERBcB8amlMMJQa4fG9XbkuRUREATCfLl69hEUlEbbuOJTrUkREFADzKRoOcdXaeh7a2UF6RHcFi0huKQDmWXNjgiP9SZ5t0+RwIpJbCoB5duXaOiIhY+sOXQ4qIrmlAJhnlSVRLj27hgc1LYSI5FhWAWBm681st5ntNbObx9luZnZLsP05M1s3atudZtZhZtvH7PMBM3vBzEbMrGnmp1I4mhvq2dvRx8td/bkuRUSK2JQBYGZh4FZgA9AIXG9mjWOabQDWBK9NwG2jtn0bWD/OobcD/xl4dNpVF7jmxszkcHpGgIjkUja/AC4G9rr7PndPAvcAG8e02Qjc5RlPAVVmtgzA3R8Fjo49qLvvdPfdMyu/MK2oLqNhWaVmBxWRnMomAJYDbaOW24N1021zRsxsk5m1mllrZ2fnbBwyL7Q01NP6ylGO9idzXYqIFKlsAsDGWTf2IvZs2pwRd7/D3Zvcvamurm42DpkXWhqXMqLJ4UQkh7IJgHZg5ajlFcCBM2gjo7xpeSWJyriuBhKRnMkmALYBa8xstZnFgOuALWPabAE+FFwNdCnQ7e4HZ7nWBcXMaG5I8JMXOxkc1uRwIjL/pgwAd08BNwH3AzuBe939BTPbbGabg2b3AfuAvcA3gI+f3N/M7gaeBNaaWbuZ3Ris/zUzawcuA/7VzO6fxfMqCC2NCQaSaZ7cdyTXpYhIEYpk08jd7yPzj/zodbeP+uzAJybY9/oJ1v8I+FHWlS5Al51TQ3kszIM7DnPV2vpclyMiRUZ3AudQPBLmV86r48GdhxnR5HAiMs8UADnW0pjgcM8Q2w9057oUESkyCoAcu2ptPeGQ6a5gEZl3CoAcqy6P0fTGah5QAIjIPFMA5IGWxgS7DvXSdnQg16WISBFRAOSB5obM5HAP6aYwEZlHCoA8sKq2nDX1FZocTkTmlQIgTzQ3JvjZvqN0nxjOdSkiUiQUAHmiuSFBasR5ZLcmhxOR+aEAyBNvXVlFbUWMB3cqAERkfigA8kQoZLzr/ASP7O4gmRrJdTkiUgQUAHmkuTFB72CKn7/8ugeoiYjMOgVAHnnHubWUREN6RoCIzAsFQB4pjYV5x7l1bN1xmMwEqyIic0cBkGdaGuvZf/wEOw/25roUEVngFAB55urzE5ihbiARmXMKgDxTtyjOW1dWKQBEZM4pAPJQc2OC59q7OdQ9mOtSRGQByyoAzGy9me02s71mdvM4283Mbgm2P2dm60Ztu9PMOsxs+5h9lpjZVjPbE7xXz/x0FoZrGjOTw+lXgIjMpSkDwMzCwK3ABqARuN7MGsc02wCsCV6bgNtGbfs2sH6cQ98MPOTua4CHgmUBzqmrYFVNmQJAROZUNr8ALgb2uvs+d08C9wAbx7TZCNzlGU8BVWa2DMDdHwXGu7NpI/Cd4PN3gPefQf0LkpnR0pjgib1H6BtK5bocEVmgsgmA5UDbqOX2YN1024yVcPeDAMF7fRa1FI3mhgTJ9AiPvdiZ61JEZIHKJgBsnHVj71LKps0ZMbNNZtZqZq2dncXzj+Hb3lhNVVlUzwgQkTmTTQC0AytHLa8ADpxBm7EOn+wmCt7HnQbT3e9w9yZ3b6qrq8ui3IUhEg5x9fn1PLyrg1Rak8OJyOzLJgC2AWvMbLWZxYDrgC1j2mwBPhRcDXQp0H2ye2cSW4APB58/DPzTNOqenv4u6Cu8aZZbGhIcHxjm6VeP5boUEVmApgwAd08BNwH3AzuBe939BTPbbGabg2b3AfuAvcA3gI+f3N/M7gaeBNaaWbuZ3Rhs+jLQYmZ7gJZgeW48+Mdwyzp4/K8gNTRnXzPb3nleHbFwiK071A0kIrPPCmnSsaamJm9tbZ3+jl174P7Pw577oXoVXPO/4fz3gY03dJFffudvf87LXf088gdXYgVQr4jkHzN72t2bxq4vjjuBa9fADffCb/0QIiXwvd+C7/wqHHo+15VNqbkhwatHBnipsy/XpYjIAlMcAXDSuc2w+afwnr+Ew9vhb34F/vlT0Je/Vxc1N2TuCn5A3UAiMsuKKwAAwhG4+Hfh95+Bi38Pnvk7+Ot18NNb8nJ8YOniEt68YjEPKgBEZJYVXwCcVFoNG74MH3sS3nAZbP0fcOslsOtfIc/GRZobEjzTdpzO3vwLKBEpXMUbACfVnXdqfCAcg3t+E+66Fg5tn3rfedLckMAdHt6lXwEiMnsUACed2wwf+yls+IvM4PDfvBP++dN5MT7QsGwRy6tK2bqj8O5lEJH8pQAYLRyFSzbBJ38BF2+CX9yVGR944q8hlcxZWScnh3t8bycnkumc1SEiC4sCYDxlS2DDn8HHn4Q3XAoP/Hf4+iWw676cjQ+0NCYYHB7h8b1dOfl+EVl4FACTqVsLN3wfbvghhKJwz/Vw10Y4/MK8l3Lx6iUsKonoaiARmTUKgGysOTk+8Odw8Jdw+zvgXz6TmWNonkTDIa5cW89Duw4zMpJfVymJSGFSAGQrHIVLfi+4f2ATPP2dzPxCT3xt3sYHWhoTdPUleabt+Lx8n4gsbAqA6Ro9PrDyInjg8/D1S2H3v835+MAV59URCRlffWgPz7d3U0jzOIlI/lEAnKm6tZl7B274AYTCcPd18P/eD4d3zNlXLi6N8smr1/CzfUf41a89zoavPsbf/vRljvXn7golESlcxTEb6FxLD8O2b8EjX4KhHnjbR+Cqz0N5zZx8XfeJYbb88gDfb23jufZuYuEQLRck+I2mlVx+bi3hkGYNFZFTJpoNVAEwmwaOZkJg27cgVgFX/hFc9LsQic3ZV+440MO9rW3847P7OT4wzFmLS/j1ppV84G0rWLmkbM6+V0QKhwJgPnXsgvs/By89BDXnwjVfhPPePafPHxhKpdm64zD3trbz2J5O3OHyc2v4YNNK3n3BUkqi4Tn7bhHJbwqAXHjxgUwQHNkDZ18F678E9Q1z/rX7j5/gh0+3c29rG+3HTlBZEmHjhcv5jYtW8qbli+f8+0UkvygAciU9DNu+GYwP9EHTR+DKz83Z+MBoIyPOU/uO8L3WNv5t+yGSqREal1XywaYVvP+ty6kqm7uuKRHJHwqAXBs4Cj/+U2i9E+IVcMXNmecShKPz8vXdA8Ns+eV+vtfaxvb9PcQiId59wVI+2LSCy8+pJaSBY5EFa0YBYGbrga8CYeCb7v7lMdst2P4eYAD4HXf/xWT7mtlbgNuBCuAV4AZ375msjoIOgJM6dgbjAw9DzRp49xdhzTXz+nziFw508/3Wdn70zH66TwyzvKqUX3/bCj7QtIIV1Ro4FllozjgAzCwMvAi0AO3ANuB6d98xqs17gE+SCYBLgK+6+yWT7Wtm24A/cPefmNlHgdXu/j8mq2VBBABkbhjbc3J8YC+cczW8+0tQf/68ljE4fHLguO21SeYuP6eWD160kmsaExo4FlkgZhIAlwF/7O7vDpY/C+DuXxrV5m+AR9z97mB5N3AlsGqifc2sB1js7m5mK4H73b1xsloWTACcNHZ84KIb4crPZu42nmftxwb4wdPtfL+1nf3HT7C4NMr7LzyLDzRp4Fik0E0UANncCbwcaBu13B6sy6bNZPtuB64NPn8AWDlB4ZvMrNXMWjs7c/9wllkVjsKlH4NPPgNNH83cP3DLhfDUbZlwmEcrqsv4dPN5PPaHV/F3N17CFefVcfe2Nt7314/z3lse464nX6F7YH5rEpG5lU0AjNc5PfZnw0RtJtv3o8AnzOxpYBEw7nwG7n6Huze5e1NdXV0W5Rag8hp4719mZhw9ax38+83w9csyl5HOs1DIeMeaWm65/q38/HPv4k+uvQCAL/zTC1z0pw/y+3c/w+N7ujQjqcgCEMmiTTun/3W+AjiQZZvYRPu6+y7gGgAzOw9473QKX5DqG+C3fwQv3p+ZZO7vP5B5VOU1X5z38QGAqrIYH377Kj789lVs39/N91vb+MdnD7DllwdYUV3KB962kl9vWsHyqtJ5r01EZi6bMYAImYHcdwH7yQzk/qa7vzCqzXuBmzg1CHyLu1882b5mVu/uHWYWAr5NZgzhzslqWXBjAJNJJWHbN+CRP4NkH1z0X+HKm3MyPjDa4HCaB3Yc5t5tmYFjM3jHubV8sGkl11yQIB7RwLFIvpnpZaDvAf6KzKWcd7r7F81sM4C73x5cBvo1YD2Zy0A/4u6tE+0brP8U8IngK/4B+KxPUUxRBcBJ/UfgkZP3D1TCVZ+DC2/I3EuQY21HMwPHP3g6M3BcVRbl/Rcu54NNK2k8qzLX5YlIQDeCFbrDO+D+z8K+RzLLkVIoq8mMH5TVBp/HvJfVnvpcUgWhuZn9Oz3iPPFSF9/b1sYDLxwmmR7hPy1fzAebVnDthctZXDo/N7uJyPgUAAuBO+z7ceaxlANHMr8OBrqCz8F7sm/8fS2c6T56LRhqXh8Sr4VHsHwGs5geH0jyj8/s53ut7ew82EM8EmL9m5byG00rufTsGt1xLJIDCoBiMTyYCYKBriAUjo76fHL9qOAYOMrrL+oKxCvHCYYlp4fE6PCIL3rtjmZ354UDPXxvW2aq6t7BFCuXBAPHb1vBWRo4Fpk3CgAZ30gaThwb9Sui6/RfF+MFR3qCJ5CFY+P+uhiOV7OjO8qP20Z48qBx1BZx3urVrL+ogTetWMLSyhJKYxo8FpkrCgCZHe6ZbqbX/bromrhbamj8KZ5G3DhGBUe9kuOhxQxGqxmKL8FLawktqiO+uJ7y6qVU1i6jpm45i2vqsZCCQmS6JgqAbO4DEDnFLNPVE18ES1Znt08qeepXRBAMI/1dHDzYztDxDqy/i7oTXcSTbZT3P0dlXy+Mc9N32o1uq6QvUsVgbAmpkiVQXkd0UR3xqgSLlixlUc0yIhX1ma6pORz4FlkIFAAy9yIxqFyWeQVCvH4+kdekhxnu6+Jo50G6Ow/Qf+wQg8cPk+7rhP4uooNHKB08RkX/DmqOdLPYBsY/DCEGItUk49WkS2uxilpilQlKq+qJVSYyIVFed2ogvGTxvM7KKpJrCgDJP+Eo0cXLSCxeRuLcdRM2c3eODQyz42gPR7sO0NN1mIFjB0n2dOB9XdiJLuJDR1g01E1N7xGWdLxMjfUQsxPjHi9tEVIlS/CyWsIV9UQq67Hy2lOD3uV1QWgEy6MGvUUKkQJACpaZsaQ8xpLyWlhZO2G7gWSKQ92DHOwZ5NmeQQ4f66H/yCEGjh8m3duB93cRGzpCNb3UDPewpK+H2s52amwHtdZDGYPjHtfDcSivwcrrMuGwaCksWnbqVRm8l9eBxi4kDykAZMEri0U4u66Cs+tG3z19+szjqfQInX1DHOoe5FB3JigOdQ9yqGeQI8e7GeruIN3bSeXIcZbQQ431UJPqZUmyh2W9fSRCr1Lrz1A1cowQI6cde8TCDMVrGS5LkK5Yii1aRnjxMmLVy4lVL8cqz8qER0mVflHIvFIAiACRcIhli0tZtnji+xPcne4TwxwMguFQ9yD7uwf5Rc8gHb1D9A4O039iKDNGMdRB5XAn9Ryj3o6xdPgYif5jJLp2krAnWGSvv2FvkBjHwzV0R2rpi9VxoqSOZGmC4fKlULEUW3wW0cVnUVZewaKSKItKIlSWRCmPh4mENdgt06cAEMmSmVFVFqOqLEbDsqnnOnJ3+pNpegeH6RtM0TOY4tDgMHsGU/T39+O9B7DeQ4T7DhE9cZjSwU4qkh1UDneR6NtJTe/jlI4zS3q3l3HIl/CyV3PYqzlMNUdDNfTGahmI13MiXk+6rI6K0hIWlURYVBKhIh597fPJ8Bj9uSIe0RPgipACQGSOmBkV8cw/roz7ULU1kx/AHR/sJnlsPyeO7id5rJ1090G85yCL+w5RO3CYdSd2UzbURYg0pMi8+iF9NMQxW0wnSzg4UsWBdBWHvZqdLKEjCI5DXs1xKjj52I5YOJQJg5IIpdEw5fEIZbFw8Mp8Lo+f3BamNBahfMz2slgk2BamPJZpq+k/8pcCQCRfmWGlVcRLq4ifdcHE7UbSmZvueg9C7yHoPUC49xC1PQeo7T1EQ+8hvPdZbODI63ZNh2IMxOvojdbSHanlSKiGbq/gxEiYgcEw/f1hBtIR+lIh+tJhjgwb/ekwSY+SJEKSKEPB+7BHXluXeY/ghCiNBiERD1MWjVAWD8IhFqY8NiZI4qOCJBYESXz8QAorWGZMASBS6EJhWJTIvCZgAKmhICAOBWFxkHDvQRb1HGRR70HO6v0P6PnZxBMKQmZS92n0FKUtQspipIkwnIwynIyS7A+CwyMMeYRBjzA4EubEyKkAGfII/aPDxKOnBUuSKB6KYpESiMQIR+OEonEi0RLCsTiRWCnRWJxwtIRIrIRILLMtGo8Tj8UpiYUpiYQpiYaJR0PEI2FKoiFKopl1JZHM53gktKDHVxQAIsUiEofqN2Zek0mnID2UCYx0MvNKJU9fd9q2ofHf00nCqSHCr60byjzr+rR2Q8Gxk3j6BD6cxFNDeHoIS2Xa20iS0MgEz6N2YDh4TcOQnwqTYSIkPXgnSt+YdcMWJW1R0qEoI6EoI6EYHooyEo5l5r8KxyEcxSJxLByDSJxQJEYoGiccvCLReCaYgkCKxuNEY6XEYiVES0qIxzOvkpJSSmLReft1owAQkdOFI5lXrHxev9YY/yHiAIyMBKFyKjBOfR71flpYnWo3kkqSTg6SGh4ilRwkPZxkJDXIyHASGx4ilkoSTQ1Rlh7CU0ksCDAbSWLpQUJBCIVGkoRHUkTSScLJFBEfJjzmst+ZGvYwQ5wKnxRRUhah55qv0HjZhln9LgWAiOS/UAhCJRAtObPdg9ecPJpoJH36L6Lg1006lSQ5dILk0BDDQycYHh4iNTTIcHKQVHKIVGqIkdFhlEriw5mwIggi0pkwsnSSJRWz/zhYBYCIyEyEwhArA8pOWx0GSoNXvspqdMPM1pvZbjPba2Y3j7PdzOyWYPtzZrZuqn3N7EIze8rMnjWzVjO7eHZOSUREsjFlAJhZGLgV2EDm/vnrzaxxTLMNZC5qXgNsAm7LYt8/B/7E3S8EvhAsi4jIPMnmF8DFwF533+fuSeAeYOOYNhuBuzzjKaDKzJZNsa8DJ2+nXAwcmOG5iIjINGQzBrAcaBu13A5ckkWb5VPs+2ngfjP7SzJB9PasqxYRkRnL5hfAeFdmjX2O5ERtJtv3Y8Bn3H0l8BngW+N+udmmYIygtbNznMdEiYjIGckmANqBlaOWV/D67pqJ2ky274eBfwg+f59Md9HruPsd7t7k7k11dXVZlCsiItnIJgC2AWvMbLWZxYDrgC1j2mwBPhRcDXQp0O3uB6fY9wBwRfD5amDPDM9FRESmYcoxAHdPmdlNwP1kLm29091fMLPNwfbbgfuA9wB7gQHgI5PtGxz6d4GvmlkEGCRz9ZCIiMwTcx/bnZ+/zKwTePUMd68FumaxnFzSueSfhXIeoHPJVzM5lze6++v60AsqAGbCzFrdvSnXdcwGnUv+WSjnATqXfDUX57Jw5zkVEZFJKQBERIpUMQXAHbkuYBbpXPLPQjkP0Lnkq1k/l6IZAxARkdMV0y8AEREZRQEgIlKkiiIApnqeQaEwszvNrMPMtue6lpkws5Vm9mMz22lmL5jZp3Jd05kysxIz+7mZ/TI4lz/JdU0zYWZhM3vGzP4l17XMhJm9YmbPn3zeSK7rmQkzqzKzH5jZruC/mctm7dgLfQwgeCbBi0ALmbmJtgHXu/uOnBZ2BszsV4A+MlNvvynX9ZypYKrwZe7+CzNbBDwNvL9A/z8xoNzd+8wsCjwOfCqYFr3gmNl/A5qASnd/X67rOVNm9grQ5O4FfxOYmX0HeMzdvxlMqVPm7sdn49jF8Asgm+cZFAR3fxQ4mus6ZsrdD7r7L4LPvcBOMlOHF5zgGRh9wWI0eBXkX1VmtgJ4L/DNXNciGWZWCfwKwWzJ7p6crX/8oTgCYKJnFUgeMLNVwFuBn+W4lDMWdJs8C3QAW929UM/lr4A/BEZyXMdscOABM3vazAp5nrGzgU7gb4OuuW+aWflsHbwYAiCb5xlIDphZBfBD4NPu3pPres6Uu6eDR5uuAC42s4LrnjOz9wEd7v50rmuZJZe7+zoyj6P9RNB9WogiwDrgNnd/K9APzNo4ZjEEQDbPM5B5FvSX/xD4rrv/w1TtC0Hw0/wRYH1uKzkjlwPXBn3n9wBXm9nf5bakM+fuB4L3DuBHTPC8kQLQDrSP+lX5AzKBMCuKIQCyeZ6BzKNg4PRbwE53/7+5rmcmzKzOzKqCz6VAM7Arp0WdAXf/rLuvcPdVZP4bedjdfyvHZZ0RMysPLi4g6C65BijIK+fc/RDQZmZrg1XvAmbtYolsnglc0KZ4JkFBMbO7gSuBWjNrB/6nu4/7KM08dznw28DzQd85wOfc/b7clXTGlgHfCa42CwH3untBX0K5ACSAH2X+ziAC/L27/3tuS5qRTwLfDf6A3UfwvJXZsOAvAxURkfEVQxeQiIiMQwEgIlKkFAAiIkVKASAiUqQUACIiRUoBICJSpBQAIiJF6v8DmGBoFY9SYxgAAAAASUVORK5CYII=\n",
      "text/plain": [
       "<Figure size 432x288 with 1 Axes>"
      ]
     },
     "metadata": {
      "needs_background": "light"
     },
     "output_type": "display_data"
    }
   ],
   "source": [
    "plt.plot(df_cae['Training Loss'])\n",
    "plt.plot(df_cae['Validation Loss'])"
   ]
  },
  {
   "cell_type": "code",
   "execution_count": 20,
   "metadata": {},
   "outputs": [
    {
     "data": {
      "text/plain": [
       "[<matplotlib.lines.Line2D at 0x1ef0852c460>]"
      ]
     },
     "execution_count": 20,
     "metadata": {},
     "output_type": "execute_result"
    },
    {
     "data": {
      "image/png": "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\n",
      "text/plain": [
       "<Figure size 432x288 with 1 Axes>"
      ]
     },
     "metadata": {
      "needs_background": "light"
     },
     "output_type": "display_data"
    }
   ],
   "source": [
    "plt.plot(df_cls['Training Loss'])\n",
    "plt.plot(df_cls['Validation Loss'])"
   ]
  },
  {
   "cell_type": "markdown",
   "metadata": {},
   "source": [
    "# Saving Models"
   ]
  },
  {
   "cell_type": "code",
   "execution_count": 21,
   "metadata": {},
   "outputs": [],
   "source": [
    "if not os.path.exists(dir_save):\n",
    "    os.makedirs(dir_save)\n",
    "model_cae.save(dir_save + 'cae.pth')\n",
    "model_cls.save(dir_save + 'cls.pth')"
   ]
  },
 ],
 "metadata": {
  "kernelspec": {
   "display_name": "Python 3 (ipykernel)",
   "language": "python",
   "name": "python3"
  },
  "language_info": {
   "codemirror_mode": {
    "name": "ipython",
    "version": 3
   },
   "file_extension": ".py",
   "mimetype": "text/x-python",
   "name": "python",
   "nbconvert_exporter": "python",
   "pygments_lexer": "ipython3",
   "version": "3.8.12"
  }
 },
 "nbformat": 4,
 "nbformat_minor": 4
}
